{
 "cells": [
  {
   "cell_type": "markdown",
   "metadata": {},
   "source": [
    "# ReinforcementLearning: a)UCB, b)ThompsonSampling\n",
    "\n",
    "**--------------------------------------------------------------------------------------------------------------------------**\n",
    "**--------------------------------------------------------------------------------------------------------------------------**\n",
    "**--------------------------------------------------------------------------------------------------------------------------**\n",
    "**---------------------------------------------------**\n",
    "\n",
    "\n",
    "**STRUCTURE**\n",
    "\n",
    "*In this notebook, the use of two models (**Part A**: UCB and **Part B**: Thompson Sampling) for an online advertising (Click-through rate) case study is demonstrated. Both models are part of Reinforcement Learning (RL) which is a machine learning category that is focused on different types of rewards depending on the actions taken at each step of the learning process. RL algorithms are capable of learning based on their interactions with the environment, where a reward is given each time the correct decision has been taken, in contrast to the supervised ML models where the presence of labels is required.*\n",
    "\n",
    "*For this demonstration, a dataset has been generated to represent 9 web advertisements of a product on its columns(dataset features) and the user selections (dataset rows). This dataset is based on the assumption that every time a user visits this web page, a different advertisement (ADV1 - ADV9) is displayed. The goal is to apply a Reinforcement Learning algorithm that will try to learn as quickly as possible which advertisement is selected the most (click-through rate) so as to be presented when users visit the site. Initially, the models display different advertisements to each user but as the algorithms gain more information with respect to the users selections (clicks), the advertisement that leads to the highest reward is chosen to be diplayed. The difference between the 'Upper Confidence Bound' (UCB) and the 'Thompson Sampling' algorithm lies in the selection process of the next advertisement that is to be displayed. UCB is a deterministic model, whereas Thompson Sampling is based on random variation (probabilistic model). In order to evaluate their ability to choose the advertisement with the highest conversion rate for different number of samples (users), the total reward for each model is provided, together with plots presenting the number of times each advertisement has been displayed at the web page.*\n",
    "\n",
    "\n",
    "\n"
   ]
  },
  {
   "cell_type": "code",
   "execution_count": 1,
   "metadata": {},
   "outputs": [],
   "source": [
    "# Importing the libraries\n",
    "import numpy as np\n",
    "import pandas as pd\n",
    "import matplotlib.pyplot as plt\n",
    "import seaborn as sns\n",
    "import warnings\n",
    "import random\n",
    "warnings.filterwarnings('ignore')"
   ]
  },
  {
   "cell_type": "code",
   "execution_count": 2,
   "metadata": {},
   "outputs": [],
   "source": [
    "# Creating the dataset by generating random values(0 & 1) with different probabilities for each 'Adv' \n",
    "# Len.Dataset=20000\n",
    "np.random.seed(0)\n",
    "dataset={'Adv1':np.random.choice(2, 20000,p=[0.6,0.4]),\n",
    "'Adv2':np.random.choice(2, 20000,p=[0.65,0.35]),\n",
    "'Adv3':np.random.choice(2, 20000,p=[0.44,0.56]),\n",
    "'Adv4':np.random.choice(2, 20000,p=[0.6,0.4]),\n",
    "'Adv5':np.random.choice(2, 20000,p=[0.50,0.50]),\n",
    "'Adv6':np.random.choice(2, 20000,p=[0.49,0.51]),\n",
    "'Adv7':np.random.choice(2, 20000,p=[0.4,0.6]),\n",
    "'Adv8':np.random.choice(2, 20000,p=[0.52,0.48]),\n",
    "'Adv9':np.random.choice(2, 20000,p=[0.47,0.53])}\n",
    "data=pd.DataFrame(data=dataset)"
   ]
  },
  {
   "cell_type": "code",
   "execution_count": 3,
   "metadata": {
    "scrolled": true
   },
   "outputs": [
    {
     "data": {
      "text/html": [
       "<div>\n",
       "<style scoped>\n",
       "    .dataframe tbody tr th:only-of-type {\n",
       "        vertical-align: middle;\n",
       "    }\n",
       "\n",
       "    .dataframe tbody tr th {\n",
       "        vertical-align: top;\n",
       "    }\n",
       "\n",
       "    .dataframe thead th {\n",
       "        text-align: right;\n",
       "    }\n",
       "</style>\n",
       "<table border=\"1\" class=\"dataframe\">\n",
       "  <thead>\n",
       "    <tr style=\"text-align: right;\">\n",
       "      <th></th>\n",
       "      <th>Adv1</th>\n",
       "      <th>Adv2</th>\n",
       "      <th>Adv3</th>\n",
       "      <th>Adv4</th>\n",
       "      <th>Adv5</th>\n",
       "      <th>Adv6</th>\n",
       "      <th>Adv7</th>\n",
       "      <th>Adv8</th>\n",
       "      <th>Adv9</th>\n",
       "    </tr>\n",
       "  </thead>\n",
       "  <tbody>\n",
       "    <tr>\n",
       "      <th>0</th>\n",
       "      <td>0</td>\n",
       "      <td>0</td>\n",
       "      <td>0</td>\n",
       "      <td>1</td>\n",
       "      <td>0</td>\n",
       "      <td>1</td>\n",
       "      <td>1</td>\n",
       "      <td>0</td>\n",
       "      <td>0</td>\n",
       "    </tr>\n",
       "    <tr>\n",
       "      <th>1</th>\n",
       "      <td>1</td>\n",
       "      <td>0</td>\n",
       "      <td>0</td>\n",
       "      <td>1</td>\n",
       "      <td>0</td>\n",
       "      <td>1</td>\n",
       "      <td>0</td>\n",
       "      <td>1</td>\n",
       "      <td>1</td>\n",
       "    </tr>\n",
       "    <tr>\n",
       "      <th>2</th>\n",
       "      <td>1</td>\n",
       "      <td>1</td>\n",
       "      <td>1</td>\n",
       "      <td>0</td>\n",
       "      <td>0</td>\n",
       "      <td>1</td>\n",
       "      <td>1</td>\n",
       "      <td>0</td>\n",
       "      <td>0</td>\n",
       "    </tr>\n",
       "    <tr>\n",
       "      <th>3</th>\n",
       "      <td>0</td>\n",
       "      <td>0</td>\n",
       "      <td>0</td>\n",
       "      <td>0</td>\n",
       "      <td>0</td>\n",
       "      <td>0</td>\n",
       "      <td>0</td>\n",
       "      <td>1</td>\n",
       "      <td>0</td>\n",
       "    </tr>\n",
       "    <tr>\n",
       "      <th>4</th>\n",
       "      <td>0</td>\n",
       "      <td>1</td>\n",
       "      <td>0</td>\n",
       "      <td>0</td>\n",
       "      <td>1</td>\n",
       "      <td>1</td>\n",
       "      <td>1</td>\n",
       "      <td>1</td>\n",
       "      <td>0</td>\n",
       "    </tr>\n",
       "    <tr>\n",
       "      <th>5</th>\n",
       "      <td>1</td>\n",
       "      <td>1</td>\n",
       "      <td>0</td>\n",
       "      <td>1</td>\n",
       "      <td>1</td>\n",
       "      <td>1</td>\n",
       "      <td>1</td>\n",
       "      <td>0</td>\n",
       "      <td>0</td>\n",
       "    </tr>\n",
       "    <tr>\n",
       "      <th>6</th>\n",
       "      <td>0</td>\n",
       "      <td>1</td>\n",
       "      <td>0</td>\n",
       "      <td>0</td>\n",
       "      <td>0</td>\n",
       "      <td>0</td>\n",
       "      <td>1</td>\n",
       "      <td>0</td>\n",
       "      <td>0</td>\n",
       "    </tr>\n",
       "    <tr>\n",
       "      <th>7</th>\n",
       "      <td>1</td>\n",
       "      <td>1</td>\n",
       "      <td>0</td>\n",
       "      <td>1</td>\n",
       "      <td>0</td>\n",
       "      <td>0</td>\n",
       "      <td>1</td>\n",
       "      <td>1</td>\n",
       "      <td>0</td>\n",
       "    </tr>\n",
       "    <tr>\n",
       "      <th>8</th>\n",
       "      <td>1</td>\n",
       "      <td>0</td>\n",
       "      <td>1</td>\n",
       "      <td>1</td>\n",
       "      <td>0</td>\n",
       "      <td>0</td>\n",
       "      <td>0</td>\n",
       "      <td>0</td>\n",
       "      <td>1</td>\n",
       "    </tr>\n",
       "    <tr>\n",
       "      <th>9</th>\n",
       "      <td>0</td>\n",
       "      <td>0</td>\n",
       "      <td>0</td>\n",
       "      <td>0</td>\n",
       "      <td>1</td>\n",
       "      <td>1</td>\n",
       "      <td>1</td>\n",
       "      <td>0</td>\n",
       "      <td>1</td>\n",
       "    </tr>\n",
       "  </tbody>\n",
       "</table>\n",
       "</div>"
      ],
      "text/plain": [
       "   Adv1  Adv2  Adv3  Adv4  Adv5  Adv6  Adv7  Adv8  Adv9\n",
       "0     0     0     0     1     0     1     1     0     0\n",
       "1     1     0     0     1     0     1     0     1     1\n",
       "2     1     1     1     0     0     1     1     0     0\n",
       "3     0     0     0     0     0     0     0     1     0\n",
       "4     0     1     0     0     1     1     1     1     0\n",
       "5     1     1     0     1     1     1     1     0     0\n",
       "6     0     1     0     0     0     0     1     0     0\n",
       "7     1     1     0     1     0     0     1     1     0\n",
       "8     1     0     1     1     0     0     0     0     1\n",
       "9     0     0     0     0     1     1     1     0     1"
      ]
     },
     "execution_count": 3,
     "metadata": {},
     "output_type": "execute_result"
    }
   ],
   "source": [
    "# Dataset-First ten records\n",
    "data.head(10)"
   ]
  },
  {
   "cell_type": "markdown",
   "metadata": {},
   "source": [
    "## UCB"
   ]
  },
  {
   "cell_type": "code",
   "execution_count": 4,
   "metadata": {},
   "outputs": [],
   "source": [
    "#Upper Confidence Bound Algorithm\n",
    "def ucb_rewards(Users_Num):\n",
    "    #Total Number of Advertisements\n",
    "    Ad_Num=9\n",
    "    #List of advertisements that are selected by the algorithm based on the user clicks at each step (initially empty)\n",
    "    Ad_to_Display=[]\n",
    "    # Count how many times each advertisement is selected\n",
    "    Ad_Cnt_Selection=[0]*Ad_Num\n",
    "    # For each advertisement compute sum of its rewards (initially empty)\n",
    "    Ad_Rewards=[0]*Ad_Num\n",
    "    # Total number of rewards  (initially zero)\n",
    "    Ad_Total_Rewards=0\n",
    "    \n",
    "    for x in range(1,Users_Num+1):                \n",
    "        Ad=0\n",
    "        UCB_max=0\n",
    "        for j in range(0,Ad_Num):\n",
    "            if Ad_Cnt_Selection[j]>0:\n",
    "                Ad_Avg_Reward=Ad_Rewards[j]/Ad_Cnt_Selection[j]\n",
    "                UCB= Ad_Avg_Reward + np.sqrt(3*np.log(x)/(2*Ad_Cnt_Selection[j]))\n",
    "            else:# The purpose of the else statement is to ensure that all Ads are selected (in order to determine the UCB)\n",
    "                UCB=1e309 \n",
    "            if UCB>UCB_max:\n",
    "                UCB_max=UCB\n",
    "                Ad=j\n",
    "        Ad_to_Display.append(Ad)\n",
    "        Ad_Cnt_Selection[Ad]+=1\n",
    "        Ad_Rewards[Ad]+=data.values[x-1,Ad]\n",
    "        Ad_Total_Rewards+=data.values[x-1,Ad]\n",
    "    return Ad_to_Display,Ad_Total_Rewards\n",
    "        \n",
    "        \n",
    "\n",
    "            \n",
    "            "
   ]
  },
  {
   "cell_type": "code",
   "execution_count": 5,
   "metadata": {},
   "outputs": [],
   "source": [
    "# The algorithm is to be executed for different samples, whose number progressively increases, so as to observe how many\n",
    "# samples were required for the model to be able to identify clearly the Ad with the highest conversion rate\n",
    "selected_Ad_2000=ucb_rewards(Users_Num=2000)\n",
    "selected_Ad_5000=ucb_rewards(Users_Num=5000)\n",
    "selected_Ad_10000=ucb_rewards(Users_Num=10000)\n",
    "selected_Ad_20000=ucb_rewards(Users_Num=20000)"
   ]
  },
  {
   "cell_type": "code",
   "execution_count": 6,
   "metadata": {},
   "outputs": [],
   "source": [
    "# Conversion to pandas dataframe\n",
    "df_selected_Ad_2000=pd.DataFrame(data=selected_Ad_2000[0],columns=['Advertisements - Users:2000'])\n",
    "df_selected_Ad_5000=pd.DataFrame(data=selected_Ad_5000[0],columns=['Advertisements - Users:5000'])\n",
    "df_selected_Ad_10000=pd.DataFrame(data=selected_Ad_10000[0],columns=['Advertisements - Users:10000'])\n",
    "df_selected_Ad_20000=pd.DataFrame(data=selected_Ad_20000[0],columns=['Advertisements - Users:20000'])"
   ]
  },
  {
   "cell_type": "code",
   "execution_count": 7,
   "metadata": {},
   "outputs": [
    {
     "data": {
      "image/png": "[encoded data removed]",
      "text/plain": [
       "<Figure size 1008x576 with 4 Axes>"
      ]
     },
     "metadata": {
      "needs_background": "light"
     },
     "output_type": "display_data"
    }
   ],
   "source": [
    "# As it can be observed, the model managed to identify clearly the Ad with the highest conversion rate at the first 10000\n",
    "# samples, with good performance at the first 2000 & 5000 samples as well\n",
    "fig,axs=plt.subplots(2,2,figsize=(14,8))\n",
    "sns.countplot(data=df_selected_Ad_2000, x=\"Advertisements - Users:2000\",label='Users:2000',ax=axs[0,0])\n",
    "sns.countplot(data=df_selected_Ad_5000, x=\"Advertisements - Users:5000\",label='Users:5000',ax=axs[0,1])\n",
    "sns.countplot(data=df_selected_Ad_10000, x=\"Advertisements - Users:10000\",label='Users:10000',ax=axs[1,0])\n",
    "sns.countplot(data=df_selected_Ad_20000, x=\"Advertisements - Users:20000\",label='Users:20000',ax=axs[1,1])\n",
    "for ax in axs.flat:\n",
    "    fig.suptitle(\"Displayed Advertisements - Upper Confidence Bound\", fontweight='bold',fontsize=18)\n",
    "    ax.set_xlabel('Advertisements',fontsize=12,fontweight='bold')\n",
    "    ax.set_ylabel('Count',fontsize=12,fontweight='bold')\n",
    "    ax.legend()\n",
    "    ax.figure.tight_layout(pad=2);\n",
    "    "
   ]
  },
  {
   "cell_type": "markdown",
   "metadata": {},
   "source": [
    "## Thompson Sampling"
   ]
  },
  {
   "cell_type": "code",
   "execution_count": 8,
   "metadata": {},
   "outputs": [],
   "source": [
    "#Thompson Sampling Algorithm\n",
    "def TSampling_rewards(Users_Num):\n",
    "    #Total Number of Advertisements\n",
    "    Ad_Num=9\n",
    "    #List of advertisements that are selected by the algorithm based on the user clicks at each step (initially empty)\n",
    "    Ad_to_Display=[]\n",
    "    # Count each time an advertisement gets reward=1\n",
    "    Ad_Count_Reward_1=[0]*Ad_Num\n",
    "    # Count each time an advertisement gets reward=0\n",
    "    Ad_Count_Reward_0=[0]*Ad_Num\n",
    "    # Total number of rewards  (initially zero)\n",
    "    Ad_Total_Rewards=0\n",
    "    \n",
    "    for x in range(1,Users_Num+1):\n",
    "        Ad=0\n",
    "        draw_max=0\n",
    "        for j in range(0,Ad_Num):\n",
    "            draw_rndm=random.betavariate(Ad_Count_Reward_1[j]+1,Ad_Count_Reward_0[j]+1)\n",
    "            if draw_rndm>draw_max:\n",
    "                draw_max=draw_rndm\n",
    "                Ad=j\n",
    "                \n",
    "        Ad_to_Display.append(Ad)\n",
    "        Tsample_reward = data.values[x-1, Ad]\n",
    "        if Tsample_reward == 1:\n",
    "            Ad_Count_Reward_1[Ad]+= 1\n",
    "        else:\n",
    "            Ad_Count_Reward_0[Ad]+= 1\n",
    "        Ad_Total_Rewards+= Tsample_reward\n",
    "            \n",
    "    \n",
    "   \n",
    "    return Ad_to_Display,Ad_Total_Rewards\n",
    "        "
   ]
  },
  {
   "cell_type": "code",
   "execution_count": 9,
   "metadata": {},
   "outputs": [],
   "source": [
    "# The algorithm is to be executed for different samples, whose number progressively increases, so as to observe how many\n",
    "# samples were required for the model to be able to identify clearly the Ad with the highest conversion rate\n",
    "select_Ad_2000=TSampling_rewards(Users_Num=2000)\n",
    "select_Ad_5000=TSampling_rewards(Users_Num=5000)\n",
    "select_Ad_10000=TSampling_rewards(Users_Num=10000)\n",
    "select_Ad_20000=TSampling_rewards(Users_Num=20000)"
   ]
  },
  {
   "cell_type": "code",
   "execution_count": 10,
   "metadata": {},
   "outputs": [],
   "source": [
    "# Conversion to pandas dataframe\n",
    "df_select_Ad_2000=pd.DataFrame(data=select_Ad_2000[0],columns=['Advertisements - Users:2000'])\n",
    "df_select_Ad_5000=pd.DataFrame(data=select_Ad_5000[0],columns=['Advertisements - Users:5000'])\n",
    "df_select_Ad_10000=pd.DataFrame(data=select_Ad_10000[0],columns=['Advertisements - Users:10000'])\n",
    "df_select_Ad_20000=pd.DataFrame(data=select_Ad_20000[0],columns=['Advertisements - Users:20000'])"
   ]
  },
  {
   "cell_type": "code",
   "execution_count": 11,
   "metadata": {},
   "outputs": [
    {
     "data": {
      "image/png": "[encoded data removed]",
      "text/plain": [
       "<Figure size 1008x576 with 4 Axes>"
      ]
     },
     "metadata": {
      "needs_background": "light"
     },
     "output_type": "display_data"
    }
   ],
   "source": [
    "# As it can be observed, the Thompson Sampling algorithm managed to outperform UCB as it has clearly identified the Ad with\n",
    "# the highest conversion rate at the first 5000 samples, with almost excellent performance at the first 2000 samples as well\n",
    "fig,axs=plt.subplots(2,2,figsize=(14,8))\n",
    "sns.countplot(data=df_select_Ad_2000, x=\"Advertisements - Users:2000\",label='Users:2000',ax=axs[0,0])\n",
    "sns.countplot(data=df_select_Ad_5000, x=\"Advertisements - Users:5000\",label='Users:5000',ax=axs[0,1])\n",
    "sns.countplot(data=df_select_Ad_10000, x=\"Advertisements - Users:10000\",label='Users:10000',ax=axs[1,0])\n",
    "sns.countplot(data=df_select_Ad_20000, x=\"Advertisements - Users:20000\",label='Users:20000',ax=axs[1,1])\n",
    "\n",
    "for ax in axs.flat:\n",
    "    fig.suptitle(\"Displayed Advertisements - Thompson Sampling\", fontweight='bold',fontsize=18)\n",
    "    ax.set_xlabel('Advertisements',fontsize=12,fontweight='bold')\n",
    "    ax.set_ylabel('Count',fontsize=12,fontweight='bold')\n",
    "    ax.legend()\n",
    "    ax.figure.tight_layout(pad=2);"
   ]
  },
  {
   "cell_type": "code",
   "execution_count": 12,
   "metadata": {},
   "outputs": [
    {
     "name": "stdout",
     "output_type": "stream",
     "text": [
      "UCB Total Rewards 2000 samples: 1082\n",
      "UCB Total Rewards 5000 samples: 2738\n",
      "UCB Total Rewards 10000 samples: 5588\n",
      "UCB Total Rewards 20000 samples: 11402\n",
      "\r\n",
      "TSampling Total Rewards 2000 samples: 1148\n",
      "TSampling Total Rewards 5000 samples: 2937\n",
      "TSampling Total Rewards 10000 samples: 5904\n",
      "TSampling Total Rewards 20000 samples: 11954\n"
     ]
    }
   ],
   "source": [
    "# Total rewards for selected data samples\n",
    "\n",
    "UCB_total_rewards2000=selected_Ad_2000[1]\n",
    "UCB_total_rewards5000=selected_Ad_5000[1]\n",
    "UCB_total_rewards10000=selected_Ad_10000[1]\n",
    "UCB_total_rewards20000=selected_Ad_20000[1]\n",
    "print('UCB Total Rewards 2000 samples: {}'.format(UCB_total_rewards2000))\n",
    "print('UCB Total Rewards 5000 samples: {}'.format(UCB_total_rewards5000))\n",
    "print('UCB Total Rewards 10000 samples: {}'.format(UCB_total_rewards10000))\n",
    "print('UCB Total Rewards 20000 samples: {}'.format(UCB_total_rewards20000))\n",
    "print('\\r')\n",
    "TSampling_total_rewards2000=select_Ad_2000[1]\n",
    "TSampling_total_rewards5000=select_Ad_5000[1]\n",
    "TSampling_total_rewards10000=select_Ad_10000[1]\n",
    "TSampling_total_rewards20000=select_Ad_20000[1]\n",
    "print('TSampling Total Rewards 2000 samples: {}'.format(TSampling_total_rewards2000))\n",
    "print('TSampling Total Rewards 5000 samples: {}'.format(TSampling_total_rewards5000))\n",
    "print('TSampling Total Rewards 10000 samples: {}'.format(TSampling_total_rewards10000))\n",
    "print('TSampling Total Rewards 20000 samples: {}'.format(TSampling_total_rewards20000))"
   ]
  }
 ],
 "metadata": {
  "kernelspec": {
   "display_name": "Python 3",
   "language": "python",
   "name": "python3"
  },
  "language_info": {
   "codemirror_mode": {
    "name": "ipython",
    "version": 3
   },
   "file_extension": ".py",
   "mimetype": "text/x-python",
   "name": "python",
   "nbconvert_exporter": "python",
   "pygments_lexer": "ipython3",
   "version": "3.8.5"
  }
 },
 "nbformat": 4,
 "nbformat_minor": 4
}
